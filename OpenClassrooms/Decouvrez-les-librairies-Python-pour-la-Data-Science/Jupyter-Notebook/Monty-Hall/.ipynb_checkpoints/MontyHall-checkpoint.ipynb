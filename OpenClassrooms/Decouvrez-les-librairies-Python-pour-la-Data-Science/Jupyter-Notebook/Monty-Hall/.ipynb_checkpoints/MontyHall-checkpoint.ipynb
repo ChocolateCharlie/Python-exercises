{
 "cells": [
  {
   "cell_type": "markdown",
   "metadata": {},
   "source": [
    "<b>Le problème de Monty Hall</b>"
   ]
  },
  {
   "cell_type": "code",
   "execution_count": 63,
   "metadata": {
    "collapsed": true
   },
   "outputs": [],
   "source": [
    "# Pour afficher les graphiques dans la continuité du code, et non pas dans une fenêtre à part\n",
    "%matplotlib inline"
   ]
  },
  {
   "cell_type": "markdown",
   "metadata": {},
   "source": [
    "Importer :\n",
    "<ul>\n",
    "    <li>dans <b>random</b> : <i>randint</i> et <i>seed</i></li>\n",
    "    <li>dans <b>enum</b> : <i>Enum</i></li>\n",
    "    <li>dans <b>matplotlib</b> : <i>pyplot</i> en tant que <i>pyplot</i></li>\n",
    "</ul>"
   ]
  },
  {
   "cell_type": "code",
   "execution_count": 64,
   "metadata": {
    "collapsed": true
   },
   "outputs": [],
   "source": [
    "from random import randint, seed\n",
    "from enum import Enum\n",
    "import matplotlib.pyplot as pyplot"
   ]
  },
  {
   "cell_type": "markdown",
   "metadata": {},
   "source": [
    "Utiliser l'horloge système pour initialiser le générateur de nombres pseudo-aléatoires."
   ]
  },
  {
   "cell_type": "code",
   "execution_count": 65,
   "metadata": {
    "collapsed": true
   },
   "outputs": [],
   "source": [
    "seed()"
   ]
  },
  {
   "cell_type": "markdown",
   "metadata": {},
   "source": [
    "Définir <i>Strategie</i>, un enfant de <i>Enum</i> contenant les stratégies possibles."
   ]
  },
  {
   "cell_type": "code",
   "execution_count": 66,
   "metadata": {
    "collapsed": true
   },
   "outputs": [],
   "source": [
    "class Strategie(Enum):\n",
    "    CHANGER = 1\n",
    "    GARDER = 2"
   ]
  },
  {
   "cell_type": "markdown",
   "metadata": {},
   "source": [
    "Définir <i>play_game</i> : simuler une partie du jeu Monty Hall\n",
    "<ul>\n",
    "    <li><i>@param</i> : strategie (<b>Strategie</b>), la stratégie du participant</li>\n",
    "    <li><i>@returns</i> : bool, Le participant a-t-il gagné ?</li>\n",
    "    <li><b>Description :</b></li>\n",
    "    <ul>\n",
    "        <li>Simuler le choix de la porte par le participant</li>\n",
    "        <li>Simuler l'élimination d'une mauvaise porte par le présentateur</li>\n",
    "        <li>Simuler le choix final du participant en fonction de la stratégie du joueur</li>\n",
    "    </ul>\n",
    "</ul>"
   ]
  },
  {
   "cell_type": "code",
   "execution_count": 67,
   "metadata": {
    "collapsed": true
   },
   "outputs": [],
   "source": [
    "def play_game(strategie):\n",
    "    # Créer les portes, dont une gagnante\n",
    "    portes = [0, 1, 2]\n",
    "    bonne_porte = randint(0, 2)\n",
    "    # Premier choix du participant\n",
    "    premier_choix = randint(0, 2)\n",
    "    # Elimination d'une porte par le présentateur\n",
    "    portes.remove(premier_choix)\n",
    "    if premier_choix == bonne_porte:\n",
    "        portes.remove(portes[randint(0, 1)])\n",
    "    else :\n",
    "        portes = bonne_porte\n",
    "    deuxieme_choix = []\n",
    "    # Deuxième choix du participant\n",
    "    if strategie == Strategie.CHANGER:\n",
    "        deuxieme_choix = portes\n",
    "    elif strategie == Strategie.GARDER:\n",
    "        deuxieme_choix = premier_choix\n",
    "    else:\n",
    "        raise ValueError(\"Statégie non valide !\")\n",
    "    # Retourner le gain\n",
    "    return deuxieme_choix == bonne_porte"
   ]
  },
  {
   "cell_type": "markdown",
   "metadata": {},
   "source": [
    "Définir <i>play</i> : simule une suite de tours du jeu\n",
    "<ul>\n",
    "    <li><i>@param</i> :\n",
    "    <ul>\n",
    "        <li>strategie (<b>Strategie</b>), la stratégie du participant</li>\n",
    "        <li>nb_tours (<b>int</b>), le nombre de tours</li>\n",
    "    </ul>\n",
    "    <li><i>@returns</i> : list, liste des gains du participant</li>\n",
    "    <li><b>Description :</b></li>\n",
    "    <ul>\n",
    "        <li>Simuler plusieurs parties du jeu de Monty Hall</li>\n",
    "        <li>Retourner les résultats sous forme d'une liste de gains</li>\n",
    "    </ul>\n",
    "</ul>"
   ]
  },
  {
   "cell_type": "code",
   "execution_count": 68,
   "metadata": {
    "collapsed": false
   },
   "outputs": [],
   "source": [
    "def play(strategie, nb_tours):\n",
    "    return [1 if play_game(strategie) else 0 for i in range(nb_tours)]"
   ]
  },
  {
   "cell_type": "markdown",
   "metadata": {},
   "source": [
    "<b>Analyse des résultats</b>"
   ]
  },
  {
   "cell_type": "code",
   "execution_count": 69,
   "metadata": {
    "collapsed": false
   },
   "outputs": [
    {
     "name": "stdout",
     "output_type": "stream",
     "text": [
      "En changeant de porte, le joueur a gagné 6664 sur 10000 parties.\n",
      "En gardant son choix initial, le joueur a gagné 3369 sur 10000 parties.\n"
     ]
    }
   ],
   "source": [
    "print(\"En changeant de porte, le joueur a gagné {} sur 10000 parties.\".format(sum(play(Strategie.CHANGER, 10000))))\n",
    "      \n",
    "print(\"En gardant son choix initial, le joueur a gagné {} sur 10000 parties.\".format(sum(play(Strategie.GARDER, 10000))))"
   ]
  },
  {
   "cell_type": "markdown",
   "metadata": {},
   "source": [
    "<b>Visualisation</b>"
   ]
  },
  {
   "cell_type": "code",
   "execution_count": 72,
   "metadata": {
    "collapsed": false
   },
   "outputs": [
    {
     "data": {
      "image/png": "[encoded data removed]",
      "text/plain": [
       "<matplotlib.figure.Figure at 0x2053c61e5f8>"
      ]
     },
     "metadata": {},
     "output_type": "display_data"
    }
   ],
   "source": [
    "plot = pyplot.plot(play(Strategie.CHANGER, 10))"
   ]
  },
  {
   "cell_type": "code",
   "execution_count": 78,
   "metadata": {
    "collapsed": false
   },
   "outputs": [
    {
     "data": {
      "image/png": "[encoded data removed]",
      "text/plain": [
       "<matplotlib.figure.Figure at 0x2053c915a90>"
      ]
     },
     "metadata": {},
     "output_type": "display_data"
    }
   ],
   "source": [
    "plot = pyplot.scatter(range(10000), play(Strategie.CHANGER, 10000))"
   ]
  },
  {
   "cell_type": "code",
   "execution_count": 85,
   "metadata": {
    "collapsed": false
   },
   "outputs": [
    {
     "data": {
      "image/png": "[encoded data removed]",
      "text/plain": [
       "<matplotlib.figure.Figure at 0x2053dd8b0f0>"
      ]
     },
     "metadata": {},
     "output_type": "display_data"
    }
   ],
   "source": [
    "plot = pyplot.bar([1,2],\n",
    "                  [sum(play(Strategie.CHANGER, 10000)), sum(play(Strategie.GARDER, 10000))], \n",
    "                  tick_label=[\"Changer\", \"Garder\"])"
   ]
  },
  {
   "cell_type": "code",
   "execution_count": 89,
   "metadata": {
    "collapsed": false
   },
   "outputs": [
    {
     "data": {
      "image/png": "[encoded data removed]",
      "text/plain": [
       "<matplotlib.figure.Figure at 0x2053dd04828>"
      ]
     },
     "metadata": {},
     "output_type": "display_data"
    }
   ],
   "source": [
    "gains_changer = []\n",
    "gains_garder = []\n",
    "samples =  [1000, 10000, 20000, 50000, 80000, 100000]\n",
    "for tours in samples:\n",
    "    gains_changer.append(play(Strategie.CHANGER, tours))\n",
    "    gains_garder.append(play(Strategie.GARDER, tours))\n",
    "figure = pyplot.figure()\n",
    "plot = pyplot.scatter(samples, [sum(x) for x in gains_changer])\n",
    "plot = pyplot.scatter(samples, [sum(x) for x in gains_garder])"
   ]
  },
  {
   "cell_type": "code",
   "execution_count": 113,
   "metadata": {
    "collapsed": false
   },
   "outputs": [
    {
     "data": {
      "text/plain": [
       "[0.5, 2.5, 0, 1]"
      ]
     },
     "execution_count": 113,
     "metadata": {},
     "output_type": "execute_result"
    },
    {
     "data": {
      "image/png": "[encoded data removed]",
      "text/plain": [
       "<matplotlib.figure.Figure at 0x2053dd04198>"
      ]
     },
     "metadata": {},
     "output_type": "display_data"
    }
   ],
   "source": [
    "plot = pyplot.bar([1,2],\n",
    "                  [sum(play(Strategie.CHANGER, 10000)) / 10000, sum(play(Strategie.GARDER, 10000)) / 10000],\n",
    "                  tick_label=[\"Changer\", \"Garder\"])\n",
    "pyplot.axis([0.5, 2.5, 0, 1])"
   ]
  }
 ],
 "metadata": {
  "kernelspec": {
   "display_name": "Python 3",
   "language": "python",
   "name": "python3"
  },
  "language_info": {
   "codemirror_mode": {
    "name": "ipython",
    "version": 3
   },
   "file_extension": ".py",
   "mimetype": "text/x-python",
   "name": "python",
   "nbconvert_exporter": "python",
   "pygments_lexer": "ipython3",
   "version": "3.6.0"
  }
 },
 "nbformat": 4,
 "nbformat_minor": 2
}
