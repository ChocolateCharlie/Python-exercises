{
 "cells": [
  {
   "cell_type": "code",
   "execution_count": 1,
   "metadata": {},
   "outputs": [],
   "source": [
    "%matplotlib inline\n",
    "\n",
    "from random import randint, seed\n",
    "from enum import Enum\n",
    "import matplotlib.pyplot as plt"
   ]
  },
  {
   "cell_type": "code",
   "execution_count": 2,
   "metadata": {},
   "outputs": [],
   "source": [
    "class Strategy(Enum):\n",
    "    CHANGE = 1\n",
    "    KEEP = 2\n",
    "    RANDOM = 3"
   ]
  },
  {
   "cell_type": "code",
   "execution_count": 3,
   "metadata": {},
   "outputs": [],
   "source": [
    "seed()\n",
    "\n",
    "def play_game(strategy):\n",
    "    '''Simulate a Monty Hall game\n",
    "    \n",
    "    This function simulates the choice of a door, the elimination of a wrong door and the final choice.\n",
    "    Since we only need the final result, it only returns it with no further details.\n",
    "    \n",
    "    Args:\n",
    "        strategy (Strategy): the player's strategy\n",
    "\n",
    "    Returns:\n",
    "        bool: true if the player won, false otherwise\n",
    "    '''\n",
    "\n",
    "    doors = [0, 1, 2]\n",
    "    winning_door = randint(0,2)\n",
    "    \n",
    "    first_choice = randint(0,2)\n",
    "    doors.remove(first_choice)\n",
    "    \n",
    "    if first_choice == winning_door:\n",
    "        doors.remove(doors[randint(0, 1)])\n",
    "    else:\n",
    "        doors = [winning_door]\n",
    "\n",
    "    second_choice = 0\n",
    "    \n",
    "    if strategy == Strategy.RANDOM:\n",
    "        if (randint(0, 1)):\n",
    "            strategy = Strategy.KEEP\n",
    "        else:\n",
    "            strategy = Strategy.CHANGE\n",
    "    \n",
    "    if strategy == Strategy.CHANGE:\n",
    "        second_choice = doors[0]\n",
    "    elif strategy == Strategy.KEEP:\n",
    "        second_choice = first_choice\n",
    "    else:\n",
    "        raise ValueError(\"Unknown Strategy\")\n",
    "\n",
    "    return second_choice == winning_door"
   ]
  },
  {
   "cell_type": "code",
   "execution_count": 4,
   "metadata": {},
   "outputs": [
    {
     "data": {
      "text/plain": [
       "False"
      ]
     },
     "execution_count": 4,
     "metadata": {},
     "output_type": "execute_result"
    }
   ],
   "source": [
    "play_game(Strategy.CHANGE)"
   ]
  },
  {
   "cell_type": "code",
   "execution_count": 5,
   "metadata": {},
   "outputs": [],
   "source": [
    "def play (strategy, nb_games):\n",
    "    '''Simulate a given number of Monty Hall games\n",
    "    \n",
    "    This function returns the list of the outcomes of a given number of Monty Hall games.\n",
    "    \n",
    "    Args:\n",
    "        strategy (Strategy): the player's strategy\n",
    "        nb_games: the number of played games\n",
    "    \n",
    "    Returns:\n",
    "        list: the list of the outcomes\n",
    "    '''\n",
    "    \n",
    "    return [1 if play_game(strategy) else 0 for i in range(nb_games)]"
   ]
  },
  {
   "cell_type": "code",
   "execution_count": 6,
   "metadata": {},
   "outputs": [
    {
     "name": "stdout",
     "output_type": "stream",
     "text": [
      "When he systematically changed of door, the player won 6669 games out of 10 000.\n",
      "When he systematically kept the same door, the player won 3349 games out of 10 000.\n"
     ]
    }
   ],
   "source": [
    "print(\"When he systematically changed of door, the player won {} games out of 10 000.\"\n",
    "      .format(sum(play(Strategy.CHANGE, 10000))))\n",
    "\n",
    "print(\"When he systematically kept the same door, the player won {} games out of 10 000.\"\n",
    "      .format(sum(play(Strategy.KEEP, 10000))))"
   ]
  },
  {
   "cell_type": "code",
   "execution_count": 7,
   "metadata": {},
   "outputs": [
    {
     "data": {
      "image/png": "[encoded data removed]",
      "text/plain": [
       "<Figure size 432x288 with 1 Axes>"
      ]
     },
     "metadata": {
      "needs_background": "light"
     },
     "output_type": "display_data"
    }
   ],
   "source": [
    "plot = plt.scatter(range(10000), play(Strategy.KEEP, 10000))"
   ]
  },
  {
   "cell_type": "code",
   "execution_count": 8,
   "metadata": {},
   "outputs": [
    {
     "data": {
      "image/png": "[encoded data removed]",
      "text/plain": [
       "<Figure size 432x288 with 1 Axes>"
      ]
     },
     "metadata": {
      "needs_background": "light"
     },
     "output_type": "display_data"
    }
   ],
   "source": [
    "plot = plt.bar([1, 2],\n",
    "               [sum(play(Strategy.KEEP, 10000)), sum(play(Strategy.CHANGE, 10000))],\n",
    "               tick_label=[\"Keep\", \"Change\"])"
   ]
  },
  {
   "cell_type": "code",
   "execution_count": 9,
   "metadata": {},
   "outputs": [],
   "source": [
    "keep_outcomes = []\n",
    "change_outcomes = []\n",
    "random_outcomes = []\n",
    "\n",
    "samples = [1000, 10000, 20000, 50000, 80000, 100000]\n",
    "\n",
    "for nb_games in samples:\n",
    "    keep_outcomes.append(play(Strategy.KEEP, nb_games))\n",
    "    change_outcomes.append(play(Strategy.CHANGE, nb_games))\n",
    "    random_outcomes.append(play(Strategy.RANDOM, nb_games))"
   ]
  },
  {
   "cell_type": "code",
   "execution_count": 10,
   "metadata": {},
   "outputs": [
    {
     "data": {
      "image/png": "[encoded data removed]",
      "text/plain": [
       "<Figure size 432x288 with 1 Axes>"
      ]
     },
     "metadata": {
      "needs_background": "light"
     },
     "output_type": "display_data"
    }
   ],
   "source": [
    "figure = plt.figure()\n",
    "plot = plt.scatter(samples, [sum(x) for x in change_outcomes])\n",
    "plot = plt.scatter(samples, [sum(x) for x in keep_outcomes])\n",
    "plot = plt.scatter(samples, [sum(x) for x in random_outcomes])"
   ]
  },
  {
   "cell_type": "code",
   "execution_count": 11,
   "metadata": {},
   "outputs": [
    {
     "data": {
      "image/png": "[encoded data removed]",
      "text/plain": [
       "<Figure size 432x288 with 1 Axes>"
      ]
     },
     "metadata": {
      "needs_background": "light"
     },
     "output_type": "display_data"
    }
   ],
   "source": [
    "plot = plt.bar([1, 2, 3],\n",
    "               [sum(play(Strategy.KEEP, 10000)) / 10000, sum(play(Strategy.RANDOM, 10000)) / 10000, sum(play(Strategy.CHANGE, 10000)) / 10000],\n",
    "               tick_label=[\"Keep\", \"Random\", \"Change\"])"
   ]
  }
 ],
 "metadata": {
  "kernelspec": {
   "display_name": "Python 3",
   "language": "python",
   "name": "python3"
  },
  "language_info": {
   "codemirror_mode": {
    "name": "ipython",
    "version": 3
   },
   "file_extension": ".py",
   "mimetype": "text/x-python",
   "name": "python",
   "nbconvert_exporter": "python",
   "pygments_lexer": "ipython3",
   "version": "3.7.1"
  }
 },
 "nbformat": 4,
 "nbformat_minor": 2
}
